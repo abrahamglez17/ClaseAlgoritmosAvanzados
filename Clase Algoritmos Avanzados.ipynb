{
 "cells": [
  {
   "cell_type": "markdown",
   "id": "69487c51",
   "metadata": {},
   "source": [
    "# Algoritmos Avanzados\n",
    "\n",
    "- Abraham González \\- A00369832\n",
    "- Álvaro Pintor \\- A01631795\n",
    "- José Angel Tobón \\- A01411655"
   ]
  },
  {
   "cell_type": "markdown",
   "id": "16416f3b",
   "metadata": {},
   "source": [
    "## Divide and Conquer - Merge Sort"
   ]
  },
  {
   "cell_type": "code",
   "execution_count": 3,
   "id": "31b0adfb",
   "metadata": {},
   "outputs": [],
   "source": [
    "def mergeSort():\n",
    "    return 0"
   ]
  },
  {
   "cell_type": "markdown",
   "id": "67ddc6bd",
   "metadata": {},
   "source": [
    "## Dynamic Programming - Cambio de monedas"
   ]
  },
  {
   "cell_type": "code",
   "execution_count": 1,
   "id": "44454066",
   "metadata": {},
   "outputs": [
    {
     "name": "stdout",
     "output_type": "stream",
     "text": [
      "Escriba la cantidad a dar a cambio: 21\n",
      "Debo dar: \n",
      "4 monedas de 5 \n",
      "0 monedas de 2 \n",
      "y -1 monedas de 1\n"
     ]
    }
   ],
   "source": [
    "monto = int(input(\"Escriba la cantidad a dar a cambio: \"))\n",
    "m5 = int(10000)\n",
    "m2 = int(10000)\n",
    "m1 = int(10000)\n",
    "\n",
    "#v5,v2,v1 almacenaran la cantidad de monedas a dar en vuelto de 5, 2 y 1 respectivamente\n",
    "v5 = 0\n",
    "v2 = 0\n",
    "v1 = 0\n",
    "\n",
    "if monto/5 <= m5:\n",
    "    v5 = monto/5\n",
    "else:\n",
    "    v5 = m5\n",
    "\n",
    " \n",
    "if monto%5/2 > m2:\n",
    "    v2 = m2\n",
    "else:\n",
    "    v2 = monto%5/2\n",
    " \n",
    "\n",
    "if monto - v5*5 - v2*2 <= m1:\n",
    "    v1 =  monto - v5*5 - v2*2\n",
    "else:\n",
    "    v1 = m1\n",
    "\n",
    "\n",
    "if v5 * 5 + v2 * 2 + v1 * 1 == monto:\n",
    "    print(\"Debo dar: \\n%d monedas de 5 \\n%d monedas de 2 \\ny %d monedas de 1\" %(v5,v2,v1))\n",
    "\n",
    "else:\n",
    "    print(\"No pudo dar vuelto\")"
   ]
  },
  {
   "cell_type": "markdown",
   "id": "3da8ab07",
   "metadata": {},
   "source": [
    "## Greedy - Seleccion de actividades"
   ]
  },
  {
   "cell_type": "code",
   "execution_count": 1,
   "id": "f60f92d4",
   "metadata": {},
   "outputs": [
    {
     "name": "stdout",
     "output_type": "stream",
     "text": [
      "Estas son las actividades seleccionadas :\n",
      "[[1, 4], [4, 5], [5, 7], [8, 11], [12, 16]]\n"
     ]
    }
   ],
   "source": [
    "def maxActividades(arrayActividades, numActividades):\n",
    "    seleccionados = []\n",
    "     \n",
    "    # ordenamos la actividad conforme a su hora de acabar\n",
    "    actividades.sort(key = lambda x : x[1])\n",
    "     \n",
    "    # seleccionamos la primer actividad al inicio\n",
    "    i = 0\n",
    "    seleccionados.append(arrayActividades[i])\n",
    " \n",
    "    for j in range(1, numActividades):\n",
    "       \n",
    "      '''If this activity has start time greater than or\n",
    "         equal to the finish time of previously selected\n",
    "         activity, then select it'''\n",
    "      if arrayActividades[j][0] >= arrayActividades[i][1]:\n",
    "          seleccionados.append(arrayActividades[j])\n",
    "          i = j\n",
    "    return seleccionados\n",
    " \n",
    "# Driver code\n",
    "actividades = [[0, 6], [1, 4], [2, 14], [3, 5],[4, 5], [5, 7],[5,9], [6,10], [8,11], [8, 12],[12,16]]\n",
    "n = len(actividades)\n",
    "selected = maxActividades(actividades, n)\n",
    "print(\"Estas son las actividades seleccionadas :\")\n",
    "print(selected)"
   ]
  },
  {
   "cell_type": "markdown",
   "id": "b8bb3843",
   "metadata": {},
   "source": [
    "## Backtracking - Juego de Reinas"
   ]
  },
  {
   "cell_type": "code",
   "execution_count": null,
   "id": "4d3413b3",
   "metadata": {},
   "outputs": [],
   "source": [
    "#Numero de reinas y tamaño del tablero\n",
    "N = 0\n",
    "\n",
    "#Funcion para imprimir el tablero (matriz binaria)\n",
    "def imprimirTablero(board):\n",
    "    for i in range(N):\n",
    "        for j in range(N):\n",
    "            print(board[i][j], end = \" \")\n",
    "        print()\n",
    "\n",
    "def reinas():\n",
    "    return 0"
   ]
  }
 ],
 "metadata": {
  "kernelspec": {
   "display_name": "Python 3 (ipykernel)",
   "language": "python",
   "name": "python3"
  },
  "language_info": {
   "codemirror_mode": {
    "name": "ipython",
    "version": 3
   },
   "file_extension": ".py",
   "mimetype": "text/x-python",
   "name": "python",
   "nbconvert_exporter": "python",
   "pygments_lexer": "ipython3",
   "version": "3.9.5"
  }
 },
 "nbformat": 4,
 "nbformat_minor": 5
}
