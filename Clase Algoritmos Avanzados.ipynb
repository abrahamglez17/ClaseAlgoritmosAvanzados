{
 "cells": [
  {
   "cell_type": "markdown",
   "id": "69487c51",
   "metadata": {},
   "source": [
    "# Actividad 1"
   ]
  },
  {
   "cell_type": "code",
   "execution_count": 1,
   "id": "f60f92d4",
   "metadata": {},
   "outputs": [
    {
     "name": "stdout",
     "output_type": "stream",
     "text": [
      "Estas son las actividades seleccionadas :\n",
      "[[1, 4], [4, 5], [5, 7], [8, 11], [12, 16]]\n"
     ]
    }
   ],
   "source": [
    "def maxActividades(arrayActividades, numActividades):\n",
    "    seleccionados = []\n",
    "     \n",
    "    # ordenamos la actividad conforme a su hora de acabar\n",
    "    actividades.sort(key = lambda x : x[1])\n",
    "     \n",
    "    # seleccionamos la primer actividad al inicio\n",
    "    i = 0\n",
    "    seleccionados.append(arrayActividades[i])\n",
    " \n",
    "    for j in range(1, numActividades):\n",
    "       \n",
    "      '''If this activity has start time greater than or\n",
    "         equal to the finish time of previously selected\n",
    "         activity, then select it'''\n",
    "      if arrayActividades[j][0] >= arrayActividades[i][1]:\n",
    "          seleccionados.append(arrayActividades[j])\n",
    "          i = j\n",
    "    return seleccionados\n",
    " \n",
    "# Driver code\n",
    "actividades = [[0, 6], [1, 4], [2, 14], [3, 5],[4, 5], [5, 7],[5,9], [6,10], [8,11], [8, 12],[12,16]]\n",
    "n = len(actividades)\n",
    "selected = maxActividades(actividades, n)\n",
    "print(\"Estas son las actividades seleccionadas :\")\n",
    "print(selected)"
   ]
  },
  {
   "cell_type": "code",
   "execution_count": null,
   "id": "39190bec",
   "metadata": {},
   "outputs": [],
   "source": []
  }
 ],
 "metadata": {
  "kernelspec": {
   "display_name": "Python 3 (ipykernel)",
   "language": "python",
   "name": "python3"
  },
  "language_info": {
   "codemirror_mode": {
    "name": "ipython",
    "version": 3
   },
   "file_extension": ".py",
   "mimetype": "text/x-python",
   "name": "python",
   "nbconvert_exporter": "python",
   "pygments_lexer": "ipython3",
   "version": "3.9.5"
  }
 },
 "nbformat": 4,
 "nbformat_minor": 5
}
