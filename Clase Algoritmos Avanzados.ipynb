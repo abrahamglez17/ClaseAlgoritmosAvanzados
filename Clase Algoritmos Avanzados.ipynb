{
 "cells": [
  {
   "cell_type": "markdown",
   "id": "69487c51",
   "metadata": {},
   "source": [
    "# Algoritmos Avanzados\n",
    "\n",
    "- Abraham González \\- A00369832\n",
    "- Álvaro Pintor \\- A01631795\n",
    "- José Angel Tobón \\- A01411655"
   ]
  },
  {
   "cell_type": "markdown",
   "id": "16416f3b",
   "metadata": {},
   "source": [
    "## Divide and Conquer - Merge Sort"
   ]
  },
  {
   "cell_type": "code",
   "execution_count": 3,
   "id": "31b0adfb",
   "metadata": {},
   "outputs": [
    {
     "name": "stdout",
     "output_type": "stream",
     "text": [
      "Array desordenado: \n",
      "12 11 13 5 6 7 15 23 2 46 8 73 \n",
      "\n",
      "Array ordenado\n",
      "2 5 6 7 8 11 12 13 15 23 46 73 "
     ]
    }
   ],
   "source": [
    "# Merges two subarrays of arr[].\n",
    "# First subarray is arr[l..m]\n",
    "# Second subarray is arr[m+1..r]\n",
    "\n",
    "def merge(arr, l, m, r):\n",
    "\tn1 = m - l + 1\n",
    "\tn2 = r - m\n",
    "\n",
    "\t# Creamos arrays temporales para hacer el ordenamiento\n",
    "\tL = [0] * (n1)\n",
    "\tR = [0] * (n2)\n",
    "\n",
    "\t# copiamos los datos a los arrays temporales\n",
    "\tfor i in range(0, n1):\n",
    "\t\tL[i] = arr[l + i]\n",
    "\n",
    "\tfor j in range(0, n2):\n",
    "\t\tR[j] = arr[m + 1 + j]\n",
    "\n",
    "\t# Hacemos merge al array principal\n",
    "\ti = 0\t # indice del primer subarray\n",
    "\tj = 0\t # indice del segundo subarray\n",
    "\tk = l\t # indice del array con merge\n",
    "\n",
    "\twhile i < n1 and j < n2:\n",
    "\t\tif L[i] <= R[j]:\n",
    "\t\t\tarr[k] = L[i]\n",
    "\t\t\ti += 1\n",
    "\t\telse:\n",
    "\t\t\tarr[k] = R[j]\n",
    "\t\t\tj += 1\n",
    "\t\tk += 1\n",
    "\n",
    "\t# copiamos los elementos que queden de L[]\n",
    "\twhile i < n1:\n",
    "\t\tarr[k] = L[i]\n",
    "\t\ti += 1\n",
    "\t\tk += 1\n",
    "\n",
    "\t# copiamos los elementos que queden de R[]\n",
    "\twhile j < n2:\n",
    "\t\tarr[k] = R[j]\n",
    "\t\tj += 1\n",
    "\t\tk += 1\n",
    "\n",
    "# l es para el indice de la izquierda r es el indice de la derecha del\n",
    "# sub-array del array que debemos de acomodar. \n",
    "\n",
    "\n",
    "def mergeSort(arr, l, r):\n",
    "\tif l < r:\n",
    "\t\tm = l+(r-l)//2\n",
    "\n",
    "\t\t# ordenamos las dos mitades y los combinamos.\n",
    "\t\tmergeSort(arr, l, m)\n",
    "\t\tmergeSort(arr, m+1, r)\n",
    "\t\tmerge(arr, l, m, r)\n",
    "\n",
    "\n",
    "# código de pruebas\n",
    "arr = [12, 11, 13, 5, 6, 7,15, 23, 2, 46, 8, 73]\n",
    "n = len(arr)\n",
    "print(\"Array desordenado: \")\n",
    "for i in range(n):\n",
    "\tprint(\"%d\" % arr[i],end=\" \")\n",
    "\n",
    "mergeSort(arr, 0, n-1)\n",
    "print(\"\\n\\nArray ordenado\")\n",
    "for i in range(n):\n",
    "\tprint(\"%d\" % arr[i],end=\" \")"
   ]
  },
  {
   "cell_type": "markdown",
   "id": "67ddc6bd",
   "metadata": {},
   "source": [
    "## Dynamic Programming - Cambio de monedas"
   ]
  },
  {
   "cell_type": "code",
   "execution_count": 2,
   "id": "44454066",
   "metadata": {},
   "outputs": [
    {
     "name": "stdout",
     "output_type": "stream",
     "text": [
      "Escriba la cantidad a dar a cambio: 15\n",
      "Debo dar: \n",
      "3 monedas de 5 \n",
      "0 monedas de 2 \n",
      "y 0 monedas de 1\n"
     ]
    }
   ],
   "source": [
    "monto = int(input(\"Escriba la cantidad a dar a cambio: \"))\n",
    "m5 = int(10000)\n",
    "m2 = int(10000)\n",
    "m1 = int(10000)\n",
    "\n",
    "#v5,v2,v1 almacenaran la cantidad de monedas a dar en vuelto de 5, 2 y 1 respectivamente\n",
    "v5 = 0\n",
    "v2 = 0\n",
    "v1 = 0\n",
    "\n",
    "if monto/5 <= m5:\n",
    "    v5 = monto/5\n",
    "else:\n",
    "    v5 = m5\n",
    "\n",
    " \n",
    "if monto%5/2 > m2:\n",
    "    v2 = m2\n",
    "else:\n",
    "    v2 = monto%5/2\n",
    " \n",
    "\n",
    "if monto - v5*5 - v2*2 <= m1:\n",
    "    v1 =  monto - v5*5 - v2*2\n",
    "else:\n",
    "    v1 = m1\n",
    "\n",
    "\n",
    "if v5 * 5 + v2 * 2 + v1 * 1 == monto:\n",
    "    print(\"Debo dar: \\n%d monedas de 5 \\n%d monedas de 2 \\ny %d monedas de 1\" %(v5,v2,v1))\n",
    "\n",
    "else:\n",
    "    print(\"No pudo dar vuelto\")"
   ]
  },
  {
   "cell_type": "markdown",
   "id": "3da8ab07",
   "metadata": {},
   "source": [
    "## Greedy - Seleccion de actividades"
   ]
  },
  {
   "cell_type": "code",
   "execution_count": 1,
   "id": "f60f92d4",
   "metadata": {},
   "outputs": [
    {
     "name": "stdout",
     "output_type": "stream",
     "text": [
      "Estas son las actividades seleccionadas :\n",
      "[[1, 4], [4, 5], [5, 7], [8, 11], [12, 16]]\n"
     ]
    }
   ],
   "source": [
    "def maxActividades(arrayActividades, numActividades):\n",
    "    seleccionados = []\n",
    "     \n",
    "    # ordenamos la actividad conforme a su hora de acabar\n",
    "    actividades.sort(key = lambda x : x[1])\n",
    "     \n",
    "    # seleccionamos la primer actividad al inicio\n",
    "    i = 0\n",
    "    seleccionados.append(arrayActividades[i])\n",
    " \n",
    "    for j in range(1, numActividades):\n",
    "       \n",
    "      '''If this activity has start time greater than or\n",
    "         equal to the finish time of previously selected\n",
    "         activity, then select it'''\n",
    "      if arrayActividades[j][0] >= arrayActividades[i][1]:\n",
    "          seleccionados.append(arrayActividades[j])\n",
    "          i = j\n",
    "    return seleccionados\n",
    " \n",
    "# Driver code\n",
    "actividades = [[0, 6], [1, 4], [2, 14], [3, 5],[4, 5], [5, 7],[5,9], [6,10], [8,11], [8, 12],[12,16]]\n",
    "n = len(actividades)\n",
    "selected = maxActividades(actividades, n)\n",
    "print(\"Estas son las actividades seleccionadas :\")\n",
    "print(selected)"
   ]
  },
  {
   "cell_type": "markdown",
   "id": "b8bb3843",
   "metadata": {},
   "source": [
    "## Backtracking - Juego de Reinas"
   ]
  },
  {
   "cell_type": "code",
   "execution_count": 15,
   "id": "4d3413b3",
   "metadata": {},
   "outputs": [
    {
     "name": "stdout",
     "output_type": "stream",
     "text": [
      "Escribe el valor de n: 4\n",
      "\n",
      "Tablero:\n",
      "0 1 0 0 \n",
      "0 0 0 1 \n",
      "1 0 0 0 \n",
      "0 0 1 0 \n"
     ]
    }
   ],
   "source": [
    "n = int(input(\"Escribe el valor de n: \"))\n",
    "tablero = []\n",
    "\n",
    "def llenarTablero():\n",
    "    for i in range(n):\n",
    "        listas = []\n",
    "        for j in range(n):\n",
    "            listas.append(0)\n",
    "        tablero.append(listas)\n",
    "\n",
    "def imprimir():\n",
    "    print(\"\\nTablero:\")\n",
    "    for i in range(n):\n",
    "        for j in range(n):\n",
    "            print(tablero[i][j], end = \" \")\n",
    "        print(\"\")\n",
    "        \n",
    "def sePuede(row, col):\n",
    "    for i in range(n):\n",
    "        if tablero[row][i] == 1:\n",
    "            return False\n",
    "        \n",
    "    for j in range(n):\n",
    "        if tablero[j][col] == 1:\n",
    "            return False\n",
    "        \n",
    "    i = row - 1\n",
    "    j = col - 1\n",
    "    while(i >= 0 and j >= 0):\n",
    "        if tablero[i][j] == 1:\n",
    "            return False\n",
    "        i = i -1\n",
    "        j = j -1\n",
    "        \n",
    "    i = row - 1\n",
    "    j = col + 1\n",
    "    while(i >= 0 and j < n):\n",
    "        if tablero[i][j] == 1:\n",
    "            return False\n",
    "        i = i - 1\n",
    "        j = j + 1\n",
    "    \n",
    "    i = row + 1\n",
    "    j = col - 1\n",
    "    while(i < n and j >= 0):\n",
    "        if tablero[i][j] == 1:\n",
    "            return False\n",
    "        i = i + 1\n",
    "        j = j - 1\n",
    "        \n",
    "    i = row + 1\n",
    "    j = col + 1\n",
    "    while(i < n and j < n):\n",
    "        if tablero[i][j] == 1:\n",
    "            return False\n",
    "        i = i + 1\n",
    "        j = j + 1\n",
    "        \n",
    "    return True\n",
    "\n",
    "def colocarReinas(n, a):\n",
    "    if a == n:\n",
    "        return True\n",
    "    for i in range(n):\n",
    "        for j in range(n):\n",
    "            if sePuede(i,j):\n",
    "                tablero[i][j] = 1\n",
    "                a = a + 1\n",
    "                if colocarReinas(n, a) == True:\n",
    "                    return True\n",
    "                tablero[i][j] = 0\n",
    "                a = a - 1\n",
    "    return False\n",
    "\n",
    "if n < 4:\n",
    "    print(\"No hay solucion\")\n",
    "else:\n",
    "    llenarTablero()\n",
    "    colocarReinas(n, 0)\n",
    "    imprimir()"
   ]
  },
  {
   "cell_type": "code",
   "execution_count": null,
   "id": "4381d28c",
   "metadata": {},
   "outputs": [],
   "source": []
  }
 ],
 "metadata": {
  "kernelspec": {
   "display_name": "Python 3",
   "language": "python",
   "name": "python3"
  },
  "language_info": {
   "codemirror_mode": {
    "name": "ipython",
    "version": 3
   },
   "file_extension": ".py",
   "mimetype": "text/x-python",
   "name": "python",
   "nbconvert_exporter": "python",
   "pygments_lexer": "ipython3",
   "version": "3.8.8"
  }
 },
 "nbformat": 4,
 "nbformat_minor": 5
}
