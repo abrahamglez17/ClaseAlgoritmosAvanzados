{
 "cells": [
  {
   "cell_type": "markdown",
   "id": "3b2b39e6",
   "metadata": {},
   "source": [
    "# EVIDENCIA SEGUNDO PERIODO\n",
    "## EQUIPO 5\n",
    "- Abraham González \\- A00369832\n",
    "- Álvaro Pintor \\- A01631795\n",
    "- José Angel Tobón \\- A01411655\n",
    "- Juan Pablo Pérez Durán \\- A01639947"
   ]
  },
  {
   "cell_type": "markdown",
   "id": "893999ca",
   "metadata": {},
   "source": [
    "## QUICKSORT ALEATORIZADO"
   ]
  },
  {
   "cell_type": "code",
   "execution_count": 1,
   "id": "b5271f94",
   "metadata": {},
   "outputs": [
    {
     "name": "stdout",
     "output_type": "stream",
     "text": [
      "Arreglo desordenado: [10, 7, 8, 12, 3, 6, 9, 1, 5]\n",
      "Arreglo ordenado: [1, 3, 5, 6, 7, 8, 9, 10, 12]\n",
      "\n",
      "Arreglo desordenado: [64, 25, 12, 22, 11]\n",
      "Arreglo ordenado: [11, 12, 22, 25, 64]\n",
      "\n",
      "Arreglo desordenado: [64, 34, 25, 12, 22, 11, 90]\n",
      "Arreglo ordenado: [11, 12, 22, 25, 34, 64, 90]\n",
      "\n",
      "Arreglo desordenado: [2, 5, 1, 6, 9]\n",
      "Arreglo ordenado: [1, 2, 5, 6, 9]\n",
      "\n"
     ]
    }
   ],
   "source": [
    "import random\n",
    "def quicksort(arr, start, stop):\n",
    "    if (start < stop):\n",
    "\n",
    "        # pivotindex es el indice donde se encuentra el pivote\n",
    "        # dentro del arreglo\n",
    "        pivotindex = partitionrand(arr, start, stop)\n",
    "\n",
    "        # Ordenamos el arreglo con base al pivote\n",
    "        # Después ordenamos recursivamente los subarreglos\n",
    "        quicksort(arr, start, pivotindex-1)\n",
    "        quicksort(arr, pivotindex + 1, stop)\n",
    "\n",
    "def partitionrand(arr, start, stop):\n",
    "    randpivot = random.randrange(start, stop)\n",
    "\n",
    "    # Cambiamos el primer elemento del arreglo\n",
    "    # por el pivote\n",
    "    arr[start], arr[randpivot] = \\\n",
    "        arr[randpivot], arr[start]\n",
    "    return partition(arr, start, stop)\n",
    "\n",
    "def partition(arr, start, stop):\n",
    "    pivot = start  # pivot\n",
    "\n",
    "    # una variable donde indica donde empieza\n",
    "    # la particion del arreglo\n",
    "    i = start + 1\n",
    "    for j in range(start + 1, stop + 1):\n",
    "\n",
    "        # si el elemento es menor o igual al pivote\n",
    "        # lo ponemos en el subarreglo de la izquierda\n",
    "        if arr[j] <= arr[pivot]:\n",
    "            arr[i], arr[j] = arr[j], arr[i]\n",
    "            i = i + 1\n",
    "    arr[pivot], arr[i - 1] =\\\n",
    "        arr[i - 1], arr[pivot]\n",
    "    pivot = i - 1\n",
    "    return (pivot)\n",
    "\n",
    "\n",
    "def randQuicksort(array):\n",
    "    print(\"Arreglo desordenado: {0}\".format(array))\n",
    "    quicksort(array, 0, len(array) - 1)\n",
    "    print(\"Arreglo ordenado: {0}\\n\".format(array))\n",
    "\n",
    "\n",
    "# implementacion\n",
    "if __name__ == \"__main__\":\n",
    "    a1 = [10, 7, 8, 12, 3, 6, 9, 1, 5]\n",
    "    a2 = [64, 25, 12, 22, 11]\n",
    "    a3 = [64, 34, 25, 12, 22, 11, 90]\n",
    "    a4 = [2, 5, 1, 6, 9]\n",
    "    randQuicksort(a1)\n",
    "    randQuicksort(a2)\n",
    "    randQuicksort(a3)\n",
    "    randQuicksort(a4)\n"
   ]
  },
  {
   "cell_type": "markdown",
   "id": "cd64dc51",
   "metadata": {},
   "source": [
    "## MINIMAX"
   ]
  },
  {
   "cell_type": "markdown",
   "id": "0bb963df",
   "metadata": {},
   "source": [
    "#### CODIGO EN C++\n",
    "\n",
    "// Este programa es una implementación del algoritmo minimax\n",
    "#include<bits/stdc++.h>\n",
    "using namespace std;\n",
    " \n",
    "\n",
    "/*\n",
    "Esta funcion llamada minimax recibe como parametro 5 variables.\n",
    "La variable posi representa la profundidad actual en la que se encuentra en el arbol.\n",
    "la variable de tipo int arregloNodos, representa el nodo acutal en el que se encuentra el recorrido del arbol.\n",
    "La variable de tipo bool se utiliza para saber si es el turno de min o de max.\n",
    "la variable de tipo int valores, es un arreglo que contiene todos los nodos del arbol.\n",
    "la variable h es de tipo int y representa la altura total del arbol de soluciones.\n",
    "\n",
    "Esta funcion regresa la mejor sulucion posible para el jugador llamdo max.\n",
    "*/\n",
    "int minimax(int posi, int arregloNodos, bool turnoMAX,\n",
    "            int valores[], int h)\n",
    "{\n",
    "    // Esta condicional es utilizada para terminar el ciclo en caso de que se haya terminado\n",
    "    //de evaluar todas los nodos.\n",
    "    if (posi == h)\n",
    "        return valores[arregloNodos];\n",
    " \n",
    "    //En caso de que sea el turno de max se obtiene el valor mas alto de entre el par de nodos hijos\n",
    "    if (turnoMAX)\n",
    "       return max(minimax(posi+1, arregloNodos*2, false, valores, h),\n",
    "            minimax(posi+1, arregloNodos*2 + 1, false, valores, h));\n",
    " \n",
    "    //En caso de ser el turno de min se obtiene el valor mas chico del par de nodos hijos a evaluar\n",
    "    else\n",
    "        return min(minimax(posi+1, arregloNodos*2, true, valores, h),\n",
    "            minimax(posi+1, arregloNodos*2 + 1, true, valores, h));\n",
    "}\n",
    " \n",
    "// Esta funcion utiliza el logaritmo n base 2 para obtener la altura del arbol evaluando la cantidad de nodos hijos.\n",
    "int log2(int n)\n",
    "{\n",
    "  return (n==1)? 0 : 1 + log2(n/2);\n",
    "}\n",
    " \n",
    "int main()\n",
    "{\n",
    "\n",
    "    int valores[] = {9, 5, 3, 9, 15, 7, 21, 35};//Arreglo que contiene las posibles soluciones a evaluar.\n",
    "    int n = sizeof(valores)/sizeof(valores[0]);\n",
    "    int h = log2(n);\n",
    "    int res = minimax(0, 0, true, valores, h);\n",
    "    cout << \"El mejor valor para max es: \" << res << endl;\n",
    "    return 0;\n",
    "}"
   ]
  }
 ],
 "metadata": {
  "kernelspec": {
   "display_name": "Python 3",
   "language": "python",
   "name": "python3"
  },
  "language_info": {
   "codemirror_mode": {
    "name": "ipython",
    "version": 3
   },
   "file_extension": ".py",
   "mimetype": "text/x-python",
   "name": "python",
   "nbconvert_exporter": "python",
   "pygments_lexer": "ipython3",
   "version": "3.8.8"
  }
 },
 "nbformat": 4,
 "nbformat_minor": 5
}
