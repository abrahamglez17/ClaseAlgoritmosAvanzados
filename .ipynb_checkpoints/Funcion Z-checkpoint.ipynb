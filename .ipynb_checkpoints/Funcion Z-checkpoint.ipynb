{
 "cells": [
  {
   "cell_type": "markdown",
   "id": "af120568",
   "metadata": {},
   "source": [
    "## Funcion Z"
   ]
  },
  {
   "cell_type": "code",
   "execution_count": 1,
   "id": "1cbb73d2",
   "metadata": {},
   "outputs": [
    {
     "name": "stdout",
     "output_type": "stream",
     "text": [
      "Indice de inicio del patron:  1\n",
      "Indice de inicio del patron:  12\n",
      "Indice de inicio del patron:  30\n"
     ]
    }
   ],
   "source": [
    "def buscPatron(cadena, patron):\n",
    "\n",
    "    concat = patron + \"$\" + cadena\n",
    "    l = len(concat)\n",
    "    z = [0] * l\n",
    "    funZ(concat, z)\n",
    " \n",
    "    for i in range(l):\n",
    " \n",
    "        if z[i] == len(patron):\n",
    "            print(\"Indice de inicio del patron: \",\n",
    "                      i - len(patron) - 1)\n",
    "            \n",
    "def funZ(string, z):\n",
    "    n = len(string)\n",
    "    l, r, k = 0, 0, 0\n",
    "    \n",
    "    for i in range(1, n):\n",
    "        if i > r:\n",
    "            l, r = i, i\n",
    "            while r < n and string[r - l] == string[r]:\n",
    "                r += 1\n",
    "            z[i] = r - l\n",
    "            r -= 1\n",
    "        else:\n",
    "            k = i - l\n",
    "            if z[k] < r - i + 1:\n",
    "                z[i] = z[k]\n",
    "            else:\n",
    "                l = i\n",
    "                while r < n and string[r - l] == string[r]:\n",
    "                    r += 1\n",
    "                z[i] = r - l\n",
    "                r -= 1\n",
    " \n",
    "\n",
    "if __name__ == \"__main__\":\n",
    "    \n",
    "    cadena = \"HOLA MUNDO HOLA BUENAS NOCHES OLA DE MAR\"\n",
    "    patron = \"OLA\"\n",
    "    buscPatron(cadena, patron)"
   ]
  }
 ],
 "metadata": {
  "kernelspec": {
   "display_name": "Python 3",
   "language": "python",
   "name": "python3"
  },
  "language_info": {
   "codemirror_mode": {
    "name": "ipython",
    "version": 3
   },
   "file_extension": ".py",
   "mimetype": "text/x-python",
   "name": "python",
   "nbconvert_exporter": "python",
   "pygments_lexer": "ipython3",
   "version": "3.8.8"
  }
 },
 "nbformat": 4,
 "nbformat_minor": 5
}
