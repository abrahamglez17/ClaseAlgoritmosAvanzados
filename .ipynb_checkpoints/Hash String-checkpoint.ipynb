{
 "cells": [
  {
   "cell_type": "markdown",
   "id": "f50f2f15",
   "metadata": {},
   "source": [
    "## Hash String\n",
    "- Alvaro Pintor\n",
    "- Abraham Gonzalez\n",
    "- Jose Tobon"
   ]
  },
  {
   "cell_type": "code",
   "execution_count": null,
   "id": "6885b070",
   "metadata": {},
   "outputs": [],
   "source": [
    "class Hash:\n",
    "    def __init__(self, s: str):\n",
    "        self.hash_value = 0\n",
    "        self.p, self.m = 31, 10**9 + 9\n",
    "        self.length = len(s)\n",
    "        hash_so_far = 0\n",
    "        p_pow = 1\n",
    "        for i in range(self.length):\n",
    "            hash_so_far = (hash_so_far + (1 + ord(s[i]) - ord('a')) * p_pow) % self.m\n",
    "            p_pow = (p_pow * self.p) % self.m\n",
    "        self.hash_value = hash_so_far\n",
    "     \n",
    "    def __eq__(self, other):\n",
    "        return self.hash_value == other.hash_value\n",
    "    \n",
    "\n",
    "def cadenitas(caden):\n",
    "    repeticiones=[0]*(10**8 + 9)\n",
    "    repes = [0]*(10**8 + 9)\n",
    "  \n",
    "    for i in range(len(caden)):\n",
    "      actual_num=0\n",
    "      aux=Hash(caden[i])\n",
    "      actual_num=repeticiones[aux.hash_value]\n",
    "      sumita = actual_num + 1\n",
    "      repeticiones[aux.hash_value] = sumita\n",
    "      repes[aux.hash_value]= caden[i]\n",
    "    for l in range(len(repeticiones)):\n",
    "      if repeticiones[l] >1:\n",
    "        print(\"Cadena: \" + str(repes[l]) + \" repetida \" + str(repeticiones[l]) + \" veces\")\n",
    " \n",
    "vocales = ['hola', 'mundo', 'mundo', 'sol', 'hola','agua','luna','mundo','agua']\n",
    "print('Lista de n cadenas de longitud maxima 5')\n",
    "print(vocales)\n",
    "print('\\n')\n",
    "cadenitas(vocales)"
   ]
  }
 ],
 "metadata": {
  "kernelspec": {
   "display_name": "Python 3",
   "language": "python",
   "name": "python3"
  },
  "language_info": {
   "codemirror_mode": {
    "name": "ipython",
    "version": 3
   },
   "file_extension": ".py",
   "mimetype": "text/x-python",
   "name": "python",
   "nbconvert_exporter": "python",
   "pygments_lexer": "ipython3",
   "version": "3.8.8"
  }
 },
 "nbformat": 4,
 "nbformat_minor": 5
}
