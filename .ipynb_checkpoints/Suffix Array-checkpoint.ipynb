{
 "cells": [
  {
   "cell_type": "markdown",
   "id": "7fc7ba2d",
   "metadata": {},
   "source": [
    "## Suffix Array\n",
    "- Alvaro Pintor\n",
    "- Abraham Gonzalez\n",
    "- Jose Tobon"
   ]
  },
  {
   "cell_type": "code",
   "execution_count": 1,
   "id": "b6b61104",
   "metadata": {},
   "outputs": [
    {
     "name": "stdout",
     "output_type": "stream",
     "text": [
      "hola y lola\n",
      "Longitud de la Subsecuencia más larga: \n",
      "3\n",
      "hola y mundo\n",
      "Longitud de la Subsecuencia más larga: \n",
      "1\n",
      "abra y cadabra\n",
      "Longitud de la Subsecuencia más larga: \n",
      "4\n",
      "longlivethescience y sciencetoenchanceandsavelives\n",
      "Longitud de la Subsecuencia más larga: \n",
      "8\n"
     ]
    }
   ],
   "source": [
    "def lcs(X , Y):\n",
    "\n",
    "    m = len(X)\n",
    "    n = len(Y)\n",
    "\n",
    "    L = [[None]*(n+1) for i in range(m+1)]\n",
    "\n",
    "    for i in range(m+1):\n",
    "        for j in range(n+1):\n",
    "            if i == 0 or j == 0 :\n",
    "                L[i][j] = 0\n",
    "            elif X[i-1] == Y[j-1]:\n",
    "                L[i][j] = L[i-1][j-1]+1\n",
    "            else:\n",
    "                L[i][j] = max(L[i-1][j] , L[i][j-1])\n",
    "\n",
    "    return L[m][n]\n",
    "\n",
    "A = \"hola\"\n",
    "B = \"lola\"\n",
    "C = \"hola\"\n",
    "D = \"mundo\"\n",
    "E = \"abra\"\n",
    "F = \"cadabra\"\n",
    "G = \"longlivethescience\" \n",
    "H = \"sciencetoenchanceandsavelives\"\n",
    "\n",
    "print (\"{0} y {1}\\nLongitud de la Subsecuencia más larga: \\n{2}\".format(A, B, lcs(A, B)))\n",
    "print (\"{0} y {1}\\nLongitud de la Subsecuencia más larga: \\n{2}\".format(C, D, lcs(C, D)))\n",
    "print (\"{0} y {1}\\nLongitud de la Subsecuencia más larga: \\n{2}\".format(E, F, lcs(E, F)))\n",
    "print (\"{0} y {1}\\nLongitud de la Subsecuencia más larga: \\n{2}\".format(G, H, lcs(G, H)))"
   ]
  }
 ],
 "metadata": {
  "kernelspec": {
   "display_name": "Python 3",
   "language": "python",
   "name": "python3"
  },
  "language_info": {
   "codemirror_mode": {
    "name": "ipython",
    "version": 3
   },
   "file_extension": ".py",
   "mimetype": "text/x-python",
   "name": "python",
   "nbconvert_exporter": "python",
   "pygments_lexer": "ipython3",
   "version": "3.8.8"
  }
 },
 "nbformat": 4,
 "nbformat_minor": 5
}
