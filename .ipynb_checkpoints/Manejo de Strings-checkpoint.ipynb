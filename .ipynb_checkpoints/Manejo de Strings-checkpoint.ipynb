{
 "cells": [
  {
   "cell_type": "markdown",
   "id": "f08f3e6c",
   "metadata": {},
   "source": [
    "## Funcion Z"
   ]
  },
  {
   "cell_type": "code",
   "execution_count": 21,
   "id": "57e0437f",
   "metadata": {},
   "outputs": [
    {
     "name": "stdout",
     "output_type": "stream",
     "text": [
      "Indice de inicio del patron:  1\n",
      "Indice de inicio del patron:  12\n",
      "Indice de inicio del patron:  30\n"
     ]
    }
   ],
   "source": [
    "def buscPatron(cadena, patron):\n",
    "\n",
    "    concat = patron + \"$\" + cadena\n",
    "    l = len(concat)\n",
    "    z = [0] * l\n",
    "    funZ(concat, z)\n",
    " \n",
    "    for i in range(l):\n",
    " \n",
    "        if z[i] == len(patron):\n",
    "            print(\"Indice de inicio del patron: \",\n",
    "                      i - len(patron) - 1)\n",
    "            \n",
    "def funZ(string, z):\n",
    "    n = len(string)\n",
    "    l, r, k = 0, 0, 0\n",
    "    \n",
    "    for i in range(1, n):\n",
    "        if i > r:\n",
    "            l, r = i, i\n",
    "            while r < n and string[r - l] == string[r]:\n",
    "                r += 1\n",
    "            z[i] = r - l\n",
    "            r -= 1\n",
    "        else:\n",
    "            k = i - l\n",
    "            if z[k] < r - i + 1:\n",
    "                z[i] = z[k]\n",
    "            else:\n",
    "                l = i\n",
    "                while r < n and string[r - l] == string[r]:\n",
    "                    r += 1\n",
    "                z[i] = r - l\n",
    "                r -= 1\n",
    " \n",
    "\n",
    "if __name__ == \"__main__\":\n",
    "    \n",
    "    cadena = \"HOLA MUNDO HOLA BUENAS NOCHES OLA DE MAR\"\n",
    "    patron = \"OLA\"\n",
    "    buscPatron(cadena, patron)"
   ]
  },
  {
   "cell_type": "markdown",
   "id": "83341cb5",
   "metadata": {},
   "source": [
    "## Palindromo mas largo - Manacher"
   ]
  },
  {
   "cell_type": "code",
   "execution_count": 13,
   "id": "f326492e",
   "metadata": {},
   "outputs": [
    {
     "name": "stdout",
     "output_type": "stream",
     "text": [
      "LPS of string is babcbabcbaccba :  abcbabcba\n",
      "LPS of string is abaaba :  abaaba\n",
      "LPS of string is abababa :  abababa\n",
      "LPS of string is abcbabcbabcba :  abcbabcbabcba\n",
      "LPS of string is forgeeksskeegfor :  geeksskeeg\n",
      "LPS of string is caba :  aba\n",
      "LPS of string is abacdfgdcaba :  aba\n",
      "LPS of string is abacdfgdcabba :  abba\n",
      "LPS of string is abacdedcaba :  abacdedcaba\n"
     ]
    }
   ],
   "source": [
    "def findLongestPalindromicString(text):\n",
    "    N = len(text)\n",
    "    \n",
    "    if N == 0:\n",
    "        return\n",
    "    \n",
    "    N = 2*N+1    \n",
    "    \n",
    "    L = [0] * N\n",
    "    L[0] = 0\n",
    "    L[1] = 1\n",
    "    \n",
    "    C = 1     \n",
    "    R = 2     \n",
    "    i = 0 \n",
    "    \n",
    "    iMirror = 0     \n",
    "    maxLPSLength = 0\n",
    "    maxLPSCenterPosition = 0\n",
    "    start = -1\n",
    "    end = -1\n",
    "    diff = -1\n",
    "  \n",
    "    for i in range(2,N):\n",
    "\n",
    "        iMirror = 2*C-i\n",
    "        L[i] = 0\n",
    "        diff = R - i\n",
    "\n",
    "        if diff > 0:\n",
    "            L[i] = min(L[iMirror], diff)\n",
    "\n",
    "        try:\n",
    "            while ((i+L[i]) < N and (i-L[i]) > 0) and \\\n",
    "                    (((i+L[i]+1) % 2 == 0) or \\\n",
    "                    (text[(i+L[i]+1)//2] == text[(i-L[i]-1)//2])):\n",
    "                L[i]+=1\n",
    "        except Exception as e:\n",
    "            pass\n",
    "  \n",
    "        if L[i] > maxLPSLength:\n",
    "            maxLPSLength = L[i]\n",
    "            maxLPSCenterPosition = i\n",
    "\n",
    "        if i + L[i] > R:\n",
    "            C = i\n",
    "            R = i + L[i]\n",
    "  \n",
    "    start = (maxLPSCenterPosition - maxLPSLength) // 2\n",
    "    end = start + maxLPSLength - 1\n",
    "    print (\"LPS of string is \" + text + \" : \",text[start:end+1])\n",
    "  \n",
    "# Driver program\n",
    "text1 = \"babcbabcbaccba\"\n",
    "findLongestPalindromicString(text1)\n",
    "  \n",
    "text2 = \"abaaba\"\n",
    "findLongestPalindromicString(text2)\n",
    "  \n",
    "text3 = \"abababa\"\n",
    "findLongestPalindromicString(text3)\n",
    "  \n",
    "text4 = \"abcbabcbabcba\"\n",
    "findLongestPalindromicString(text4)\n",
    "  \n",
    "text5 = \"forgeeksskeegfor\"\n",
    "findLongestPalindromicString(text5)\n",
    "  \n",
    "text6 = \"caba\"\n",
    "findLongestPalindromicString(text6)\n",
    "  \n",
    "text7 = \"abacdfgdcaba\"\n",
    "findLongestPalindromicString(text7)\n",
    "  \n",
    "text8 = \"abacdfgdcabba\"\n",
    "findLongestPalindromicString(text8)\n",
    "  \n",
    "text9 = \"abacdedcaba\"\n",
    "findLongestPalindromicString(text9)"
   ]
  },
  {
   "cell_type": "markdown",
   "id": "cd673c40",
   "metadata": {},
   "source": [
    "## Hash string"
   ]
  },
  {
   "cell_type": "code",
   "execution_count": 4,
   "id": "b883544d",
   "metadata": {},
   "outputs": [
    {
     "name": "stdout",
     "output_type": "stream",
     "text": [
      "Lista de n cadenas de longitud maxima 5\n",
      "['hola', 'mundo', 'mundo', 'sol', 'hola', 'agua', 'luna', 'mundo', 'agua']\n",
      "\n",
      "\n",
      "Cadena: hola repetida 2 veces\n",
      "Cadena: agua repetida 2 veces\n",
      "Cadena: mundo repetida 3 veces\n"
     ]
    }
   ],
   "source": [
    "class Hash:\n",
    "    def __init__(self, s: str):\n",
    "        self.hash_value = 0\n",
    "        self.p, self.m = 31, 10**9 + 9\n",
    "        self.length = len(s)\n",
    "        hash_so_far = 0\n",
    "        p_pow = 1\n",
    "        for i in range(self.length):\n",
    "            hash_so_far = (hash_so_far + (1 + ord(s[i]) - ord('a')) * p_pow) % self.m\n",
    "            p_pow = (p_pow * self.p) % self.m\n",
    "        self.hash_value = hash_so_far\n",
    "     \n",
    "    def __eq__(self, other):\n",
    "        return self.hash_value == other.hash_value\n",
    "    \n",
    "\n",
    "def cadenitas(caden):\n",
    "    repeticiones=[0]*(10**8 + 9)\n",
    "    repes = [0]*(10**8 + 9)\n",
    "  \n",
    "    for i in range(len(caden)):\n",
    "      actual_num=0\n",
    "      aux=Hash(caden[i])\n",
    "      actual_num=repeticiones[aux.hash_value]\n",
    "      sumita = actual_num + 1\n",
    "      repeticiones[aux.hash_value] = sumita\n",
    "      repes[aux.hash_value]= caden[i]\n",
    "    for l in range(len(repeticiones)):\n",
    "      if repeticiones[l] >1:\n",
    "        print(\"Cadena: \" + str(repes[l]) + \" repetida \" + str(repeticiones[l]) + \" veces\")\n",
    " \n",
    "vocales = ['hola', 'mundo', 'mundo', 'sol', 'hola','agua','luna','mundo','agua']\n",
    "print('Lista de n cadenas de longitud maxima 5')\n",
    "print(vocales)\n",
    "print('\\n')\n",
    "cadenitas(vocales)"
   ]
  },
  {
   "cell_type": "markdown",
   "id": "69c5fa6c",
   "metadata": {},
   "source": [
    "## Suffix array - Longest common subsequence"
   ]
  },
  {
   "cell_type": "code",
   "execution_count": 5,
   "id": "2ceedc5a",
   "metadata": {},
   "outputs": [
    {
     "name": "stdout",
     "output_type": "stream",
     "text": [
      "hola y lola\n",
      "Longitud de la Subsecuencia más larga: \n",
      "3\n",
      "hola y mundo\n",
      "Longitud de la Subsecuencia más larga: \n",
      "1\n",
      "abra y cadabra\n",
      "Longitud de la Subsecuencia más larga: \n",
      "4\n",
      "longlivethescience y sciencetoenchanceandsavelives\n",
      "Longitud de la Subsecuencia más larga: \n",
      "8\n"
     ]
    }
   ],
   "source": [
    "def lcs(X , Y):\n",
    "\n",
    "    m = len(X)\n",
    "    n = len(Y)\n",
    "\n",
    "    L = [[None]*(n+1) for i in range(m+1)]\n",
    "\n",
    "    for i in range(m+1):\n",
    "        for j in range(n+1):\n",
    "            if i == 0 or j == 0 :\n",
    "                L[i][j] = 0\n",
    "            elif X[i-1] == Y[j-1]:\n",
    "                L[i][j] = L[i-1][j-1]+1\n",
    "            else:\n",
    "                L[i][j] = max(L[i-1][j] , L[i][j-1])\n",
    "\n",
    "    return L[m][n]\n",
    "\n",
    "A = \"hola\"\n",
    "B = \"lola\"\n",
    "C = \"hola\"\n",
    "D = \"mundo\"\n",
    "E = \"abra\"\n",
    "F = \"cadabra\"\n",
    "G = \"longlivethescience\" \n",
    "H = \"sciencetoenchanceandsavelives\"\n",
    "\n",
    "print (\"{0} y {1}\\nLongitud de la Subsecuencia más larga: \\n{2}\".format(A, B, lcs(A, B)))\n",
    "print (\"{0} y {1}\\nLongitud de la Subsecuencia más larga: \\n{2}\".format(C, D, lcs(C, D)))\n",
    "print (\"{0} y {1}\\nLongitud de la Subsecuencia más larga: \\n{2}\".format(E, F, lcs(E, F)))\n",
    "print (\"{0} y {1}\\nLongitud de la Subsecuencia más larga: \\n{2}\".format(G, H, lcs(G, H)))"
   ]
  }
 ],
 "metadata": {
  "kernelspec": {
   "display_name": "Python 3",
   "language": "python",
   "name": "python3"
  },
  "language_info": {
   "codemirror_mode": {
    "name": "ipython",
    "version": 3
   },
   "file_extension": ".py",
   "mimetype": "text/x-python",
   "name": "python",
   "nbconvert_exporter": "python",
   "pygments_lexer": "ipython3",
   "version": "3.8.8"
  }
 },
 "nbformat": 4,
 "nbformat_minor": 5
}
