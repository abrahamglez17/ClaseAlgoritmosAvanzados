{
 "cells": [
  {
   "cell_type": "markdown",
   "id": "1d810fbb",
   "metadata": {},
   "source": [
    "# Algoritmos Avanzados - KMP\n",
    "- Abraham González \\- A00369832\n",
    "- Álvaro Pintor \\- A01631795\n",
    "- José Angel Tobón \\- A01411655"
   ]
  },
  {
   "cell_type": "code",
   "execution_count": null,
   "id": "cead283d",
   "metadata": {},
   "outputs": [],
   "source": [
    "def prefix(P):\n",
    "    m = P.length\n",
    "    pie = []\n",
    "    pie[i] = 0\n",
    "    k = 0\n",
    "    for q = 2 to m:\n",
    "        while k > 0 and P[k + 1] != P[q]:\n",
    "            k = pie[k]\n",
    "            \n",
    "        if P[k + 1] == P[q]:\n",
    "            k = k + 1\n",
    "        \n",
    "        pie[q] = k\n",
    "    return pie\n",
    "\n",
    "def kmpMatcher(T, P):\n",
    "    n = T.length\n",
    "    m = P.length\n",
    "    pie = prefix(P)\n",
    "    q = 0\n",
    "    for i = 1 to n:\n",
    "        while q > 0 and P[q + 1] != T[i]:\n",
    "            q = pie[q]\n",
    "        \n",
    "        if P[q + 1] == T[i]:\n",
    "            q = q + 1\n",
    "        \n",
    "        if q == m:\n",
    "            print(\"Patter occurs with shift\", i - m)\n",
    "            q = pie[q]"
   ]
  }
 ],
 "metadata": {
  "kernelspec": {
   "display_name": "Python 3",
   "language": "python",
   "name": "python3"
  },
  "language_info": {
   "codemirror_mode": {
    "name": "ipython",
    "version": 3
   },
   "file_extension": ".py",
   "mimetype": "text/x-python",
   "name": "python",
   "nbconvert_exporter": "python",
   "pygments_lexer": "ipython3",
   "version": "3.8.8"
  }
 },
 "nbformat": 4,
 "nbformat_minor": 5
}
