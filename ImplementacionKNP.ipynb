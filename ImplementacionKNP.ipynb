{
 "cells": [
  {
   "cell_type": "markdown",
   "id": "1d810fbb",
   "metadata": {},
   "source": [
    "# Algoritmos Avanzados - KMP\n",
    "- Abraham González \\- A00369832\n",
    "- Álvaro Pintor \\- A01631795\n",
    "- José Angel Tobón \\- A01411655"
   ]
  },
  {
   "cell_type": "code",
   "execution_count": 22,
   "id": "cead283d",
   "metadata": {},
   "outputs": [
    {
     "ename": "IndexError",
     "evalue": "list index out of range",
     "output_type": "error",
     "traceback": [
      "\u001b[1;31m---------------------------------------------------------------------------\u001b[0m",
      "\u001b[1;31mIndexError\u001b[0m                                Traceback (most recent call last)",
      "\u001b[1;32m<ipython-input-22-54f2ef9e98a5>\u001b[0m in \u001b[0;36m<module>\u001b[1;34m\u001b[0m\n\u001b[0;32m     46\u001b[0m \u001b[1;33m\u001b[0m\u001b[0m\n\u001b[0;32m     47\u001b[0m \u001b[1;33m\u001b[0m\u001b[0m\n\u001b[1;32m---> 48\u001b[1;33m \u001b[0mkmpMatcher\u001b[0m\u001b[1;33m(\u001b[0m\u001b[0mti\u001b[0m\u001b[1;33m)\u001b[0m\u001b[1;33m\u001b[0m\u001b[1;33m\u001b[0m\u001b[0m\n\u001b[0m",
      "\u001b[1;32m<ipython-input-22-54f2ef9e98a5>\u001b[0m in \u001b[0;36mkmpMatcher\u001b[1;34m(T)\u001b[0m\n\u001b[0;32m     28\u001b[0m     \u001b[0mi\u001b[0m \u001b[1;33m=\u001b[0m \u001b[1;36m1\u001b[0m\u001b[1;33m\u001b[0m\u001b[1;33m\u001b[0m\u001b[0m\n\u001b[0;32m     29\u001b[0m     \u001b[1;32mfor\u001b[0m \u001b[0mi\u001b[0m \u001b[1;32min\u001b[0m \u001b[0mrange\u001b[0m\u001b[1;33m(\u001b[0m\u001b[0mn\u001b[0m\u001b[1;33m)\u001b[0m\u001b[1;33m:\u001b[0m\u001b[1;33m\u001b[0m\u001b[1;33m\u001b[0m\u001b[0m\n\u001b[1;32m---> 30\u001b[1;33m         \u001b[1;32mwhile\u001b[0m \u001b[0mq\u001b[0m \u001b[1;33m>\u001b[0m \u001b[1;36m0\u001b[0m \u001b[1;32mand\u001b[0m \u001b[0mP\u001b[0m\u001b[1;33m[\u001b[0m\u001b[0mq\u001b[0m \u001b[1;33m+\u001b[0m \u001b[1;36m1\u001b[0m\u001b[1;33m]\u001b[0m \u001b[1;33m!=\u001b[0m \u001b[0mT\u001b[0m\u001b[1;33m[\u001b[0m\u001b[0mi\u001b[0m\u001b[1;33m]\u001b[0m\u001b[1;33m:\u001b[0m\u001b[1;33m\u001b[0m\u001b[1;33m\u001b[0m\u001b[0m\n\u001b[0m\u001b[0;32m     31\u001b[0m             \u001b[0mq\u001b[0m \u001b[1;33m=\u001b[0m \u001b[0mpie\u001b[0m\u001b[1;33m[\u001b[0m\u001b[0mq\u001b[0m\u001b[1;33m]\u001b[0m\u001b[1;33m\u001b[0m\u001b[1;33m\u001b[0m\u001b[0m\n\u001b[0;32m     32\u001b[0m \u001b[1;33m\u001b[0m\u001b[0m\n",
      "\u001b[1;31mIndexError\u001b[0m: list index out of range"
     ]
    }
   ],
   "source": [
    "import numpy as np\n",
    "pie =np.empty(shape=5)\n",
    "\n",
    "\n",
    "def prefix(P):\n",
    "    m = len(P)\n",
    "    pie[1] = 0\n",
    "    k = 0\n",
    "    q=2\n",
    "    for q in range(m):\n",
    "        while k > 0 and P[k + 1] != P[q]:\n",
    "            k = pie[k]\n",
    "            \n",
    "        if P[k + 1] == P[q]:\n",
    "            k = k + 1\n",
    "        \n",
    "        pie[q] = k\n",
    "    return pie\n",
    "\n",
    "def kmpMatcher(T, P):\n",
    "    n = len(T)\n",
    "    m = len(P)\n",
    "    pie = prefix(P)\n",
    "    q = 0\n",
    "    i = 1\n",
    "    for i in range(n):\n",
    "        while q > 0 and P[q + 1] != T[i]:\n",
    "            q = pie[q]\n",
    "        \n",
    "        if P[q + 1] == T[i]:\n",
    "            q = q + 1\n",
    "        \n",
    "        if q == m:\n",
    "            print(\"Patter occurs with shift\", i - m)\n",
    "            q = pie[q]\n",
    "            \n",
    "\n",
    "te = 'abbababaaabababbbaabba'\n",
    "pe = 'abba'\n",
    "\n",
    "ti=list(te)\n",
    "ta=list(pe)\n",
    "\n",
    "kmpMatcher(ti,ta)"
   ]
  },
  {
   "cell_type": "code",
   "execution_count": null,
   "id": "cdedca0b",
   "metadata": {},
   "outputs": [],
   "source": []
  },
  {
   "cell_type": "code",
   "execution_count": null,
   "id": "02152c36",
   "metadata": {},
   "outputs": [],
   "source": []
  }
 ],
 "metadata": {
  "kernelspec": {
   "display_name": "Python 3",
   "language": "python",
   "name": "python3"
  },
  "language_info": {
   "codemirror_mode": {
    "name": "ipython",
    "version": 3
   },
   "file_extension": ".py",
   "mimetype": "text/x-python",
   "name": "python",
   "nbconvert_exporter": "python",
   "pygments_lexer": "ipython3",
   "version": "3.8.8"
  }
 },
 "nbformat": 4,
 "nbformat_minor": 5
}
