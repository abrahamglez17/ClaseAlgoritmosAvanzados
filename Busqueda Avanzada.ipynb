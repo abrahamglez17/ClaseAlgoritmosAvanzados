{
 "cells": [
  {
   "cell_type": "markdown",
   "id": "3b2b39e6",
   "metadata": {},
   "source": [
    "# BUSQUEDA AVANZADA\n",
    "## ci"
   ]
  },
  {
   "cell_type": "markdown",
   "id": "893999ca",
   "metadata": {},
   "source": [
    "## TRIPLETA PITAGORICA"
   ]
  },
  {
   "cell_type": "code",
   "execution_count": null,
   "id": "b5271f94",
   "metadata": {},
   "outputs": [],
   "source": [
    "def pitTriplet(arr):\n",
    "    \n",
    "    n = len(arr)\n",
    "    \n",
    "    #Elevar al cuadrado todos los elementos del arreglo\n",
    "    for i in range(n):\n",
    "        arr[i] = arr[i]**2\n",
    "        \n",
    "    #Ordenar el arreglo\n",
    "    newArr = arr.sort()\n",
    "    \n",
    "    #Apuntadores l, r, i\n",
    "    lVal = 0\n",
    "    rVal = n-2\n",
    "    iVal = n-1\n",
    "    \n",
    "    l = arr[lVal]\n",
    "    r = arr[rVal]\n",
    "    i = arr[iVal]\n",
    "    \n",
    "    while l < r:\n",
    "        if l + r == i:\n",
    "            return True\n",
    "        \n",
    "        if l + r < i:\n",
    "            l = arr[lVal + 1]\n",
    "        \n",
    "        if l + r > i:\n",
    "            r = arr[rVal - 1]\n",
    "            \n",
    "        iVal = iVal - 1\n",
    "        \n",
    "    return False\n",
    "\n",
    "#DRIVER CODE\n"
   ]
  }
 ],
 "metadata": {
  "kernelspec": {
   "display_name": "Python 3",
   "language": "python",
   "name": "python3"
  },
  "language_info": {
   "codemirror_mode": {
    "name": "ipython",
    "version": 3
   },
   "file_extension": ".py",
   "mimetype": "text/x-python",
   "name": "python",
   "nbconvert_exporter": "python",
   "pygments_lexer": "ipython3",
   "version": "3.8.8"
  }
 },
 "nbformat": 4,
 "nbformat_minor": 5
}
